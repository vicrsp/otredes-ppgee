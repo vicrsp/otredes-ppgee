{
 "cells": [
  {
   "cell_type": "code",
   "execution_count": 3,
   "metadata": {},
   "outputs": [],
   "source": [
    "import cplex\n",
    "from cplex.exceptions import CplexError\n",
    "import sys\n"
   ]
  },
  {
   "cell_type": "code",
   "execution_count": 9,
   "metadata": {},
   "outputs": [],
   "source": [
    "# data common to all populateby functions\n",
    "my_obj      = [1.0, 2.0, 3.0]\n",
    "my_ub       = [40.0, cplex.infinity, cplex.infinity]\n",
    "my_colnames = [\"x1\", \"x2\", \"x3\"]\n",
    "my_rhs      = [20.0, 30.0]\n",
    "my_rownames = [\"c1\", \"c2\"]\n",
    "my_sense    = \"LL\"\n",
    "\n",
    "\n",
    "def populatebyrow(prob):\n",
    "    prob.objective.set_sense(prob.objective.sense.maximize)\n",
    "\n",
    "    # since lower bounds are all 0.0 (the default), lb is omitted here\n",
    "    prob.variables.add(obj = my_obj, ub = my_ub, names = my_colnames)\n",
    "\n",
    "    # can query variables like the following bounds and names:\n",
    "\n",
    "    # lbs is a list of all the lower bounds\n",
    "    lbs = prob.variables.get_lower_bounds()\n",
    "\n",
    "    # ub1 is just the first lower bound\n",
    "    ub1 = prob.variables.get_upper_bounds(0)\n",
    "\n",
    "    # names is [\"x1\", \"x3\"]\n",
    "    names = prob.variables.get_names([0, 2])\n",
    "\n",
    "    rows = [[[0,\"x2\",\"x3\"],[-1.0, 1.0,1.0]],\n",
    "            [[\"x1\",1,2],[ 1.0,-3.0,1.0]]]\n",
    "\n",
    "    prob.linear_constraints.add(lin_expr = rows, senses = my_sense,\n",
    "                                rhs = my_rhs, names = my_rownames)\n",
    "\n",
    "    # because there are two arguments, they are taken to specify a range\n",
    "    # thus, cols is the entire constraint matrix as a list of column vectors\n",
    "    cols = prob.variables.get_cols(\"x1\", \"x3\")\n",
    "\n",
    "\n",
    "def populatebycolumn(prob):\n",
    "    prob.objective.set_sense(prob.objective.sense.maximize)\n",
    "\n",
    "    prob.linear_constraints.add(rhs = my_rhs, senses = my_sense,\n",
    "                                names = my_rownames)\n",
    "\n",
    "    c = [[[0,1],[-1.0, 1.0]],\n",
    "         [[\"c1\",1],[ 1.0,-3.0]],\n",
    "         [[0,\"c2\"],[ 1.0, 1.0]]]\n",
    "\n",
    "    prob.variables.add(obj = my_obj, ub = my_ub, names = my_colnames,\n",
    "                       columns = c)\n",
    "\n",
    "def populatebynonzero(prob):\n",
    "    prob.objective.set_sense(prob.objective.sense.maximize)\n",
    "\n",
    "    prob.linear_constraints.add(rhs = my_rhs, senses = my_sense,\n",
    "                                names = my_rownames)\n",
    "    prob.variables.add(obj = my_obj, ub = my_ub, names = my_colnames)\n",
    "\n",
    "    rows = [0,0,0,1,1,1]\n",
    "    cols = [0,1,2,0,1,2]\n",
    "    vals = [-1.0,1.0,1.0,1.0,-3.0,1.0]\n",
    "\n",
    "    prob.linear_constraints.set_coefficients(zip(rows, cols, vals))\n",
    "    # can also change one coefficient at a time\n",
    "\n",
    "    # prob.linear_constraints.set_coefficients(1,1,-3.0)\n",
    "    # or pass in a list of triples\n",
    "    # prob.linear_constraints.set_coefficients([(0,1,1.0), (1,1,-3.0)])\n",
    "\n",
    "\n",
    "def lpex1(pop_method):\n",
    "    try:\n",
    "        my_prob = cplex.Cplex()\n",
    "\n",
    "        if pop_method == \"r\":\n",
    "            handle = populatebyrow(my_prob)\n",
    "        if pop_method == \"c\":\n",
    "            handle = populatebycolumn(my_prob)\n",
    "        if pop_method == \"n\":\n",
    "            handle = populatebynonzero(my_prob)\n",
    "\n",
    "        my_prob.solve()\n",
    "    except exc:\n",
    "        print(exc)\n",
    "        return\n",
    "\n",
    "    numrows = my_prob.linear_constraints.get_num()\n",
    "    numcols = my_prob.variables.get_num()\n",
    "\n",
    "    print\n",
    "    # solution.get_status() returns an integer code\n",
    "    print(\"Solution status = \" , my_prob.solution.get_status(), \":\",)\n",
    "    # the following line prints the corresponding string\n",
    "    print(my_prob.solution.status[my_prob.solution.get_status()])\n",
    "    print(\"Solution value  = \", my_prob.solution.get_objective_value())\n",
    "    slack = my_prob.solution.get_linear_slacks()\n",
    "    pi    = my_prob.solution.get_dual_values()\n",
    "    x     = my_prob.solution.get_values()\n",
    "    dj    = my_prob.solution.get_reduced_costs()\n",
    "    for i in range(numrows):\n",
    "        print(\"Row %d:  Slack = %10f  Pi = %10f\" % (i, slack[i], pi[i]))\n",
    "    for j in range(numcols):\n",
    "        print(\"Column %d:  Value = %10f Reduced cost = %10f\" % (j, x[j], dj[j]))\n",
    "\n",
    "    my_prob.write(\"lpex1.lp\")\n",
    "\n"
   ]
  },
  {
   "cell_type": "code",
   "execution_count": 12,
   "metadata": {},
   "outputs": [
    {
     "name": "stdout",
     "output_type": "stream",
     "text": [
      "Version identifier: 12.10.0.0 | 2019-11-26 | 843d4de2ae\n",
      "CPXPARAM_Read_DataCheck                          1\n",
      "Tried aggregator 1 time.\n",
      "No LP presolve or aggregator reductions.\n",
      "Presolve time = 0.00 sec. (0.00 ticks)\n",
      "\n",
      "Iteration log . . .\n",
      "Iteration:     1   Dual infeasibility =             0.000000\n",
      "Iteration:     2   Dual objective     =           202.500000\n",
      "Solution status =  1 :\n",
      "optimal\n",
      "Solution value  =  202.5\n",
      "Row 0:  Slack =   0.000000  Pi =   2.750000\n",
      "Row 1:  Slack =   0.000000  Pi =   0.250000\n",
      "Column 0:  Value =  40.000000 Reduced cost =   3.500000\n",
      "Column 1:  Value =  17.500000 Reduced cost =   0.000000\n",
      "Column 2:  Value =  42.500000 Reduced cost =   0.000000\n"
     ]
    }
   ],
   "source": [
    "prompt = \"\"\"Enter the letter indicating how the problem data should be populated:\n",
    "r : populate by rows\n",
    "c : populate by columns\n",
    "n : populate by nonzeros\\n ? > \"\"\"\n",
    "r = 'r'\n",
    "c = 'c'\n",
    "n = 'n'\n",
    "\n",
    "lpex1(r)"
   ]
  },
  {
   "cell_type": "code",
   "execution_count": 15,
   "metadata": {},
   "outputs": [
    {
     "data": {
      "text/plain": [
       "'12.10.0.0'"
      ]
     },
     "execution_count": 15,
     "metadata": {},
     "output_type": "execute_result"
    }
   ],
   "source": [
    "cplex.Cplex().get_version()"
   ]
  },
  {
   "cell_type": "code",
   "execution_count": null,
   "metadata": {},
   "outputs": [],
   "source": []
  }
 ],
 "metadata": {
  "kernelspec": {
   "display_name": "Python 3",
   "language": "python",
   "name": "python3"
  },
  "language_info": {
   "codemirror_mode": {
    "name": "ipython",
    "version": 3
   },
   "file_extension": ".py",
   "mimetype": "text/x-python",
   "name": "python",
   "nbconvert_exporter": "python",
   "pygments_lexer": "ipython3",
   "version": "3.7.7"
  }
 },
 "nbformat": 4,
 "nbformat_minor": 4
}
